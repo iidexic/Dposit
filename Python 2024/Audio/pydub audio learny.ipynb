{
 "cells": [
  {
   "cell_type": "code",
   "execution_count": 17,
   "metadata": {},
   "outputs": [
    {
     "name": "stdout",
     "output_type": "stream",
     "text": [
      "0\n",
      "1\n",
      "2\n",
      "3\n",
      "4\n"
     ]
    }
   ],
   "source": [
    "from pathlib import Path\n",
    "dir = r\"D:\\Coding\\DPython\\ex-audio\"\n",
    "filepath = r'd:\\coding\\dpython\\ex-audio\\Hat closed-01.mp3'\n",
    "p = Path(dir)\n",
    "for x in range(5):\n",
    "    print(x)"
   ]
  },
  {
   "cell_type": "code",
   "execution_count": null,
   "metadata": {},
   "outputs": [
    {
     "name": "stdout",
     "output_type": "stream",
     "text": [
      "d:\\coding\\dpython\\ex-audio-converted\\a.wav\n"
     ]
    },
    {
     "data": {
      "text/plain": [
       "<_io.BufferedRandom name='d:\\\\coding\\\\dpython\\\\ex-audio-converted\\\\a.wav'>"
      ]
     },
     "execution_count": 13,
     "metadata": {},
     "output_type": "execute_result"
    }
   ],
   "source": [
    "# Speedy first look\n",
    "from pathlib import Path\n",
    "from pydub import AudioSegment\n",
    "\n",
    "#hardcode file and destination\n",
    "p = Path(r'd:\\coding\\dpython\\ex-audio\\Hat closed-01.mp3')\n",
    "outpath = Path(r'd:\\coding\\dpython\\ex-audio-converted\\a.wav')\n",
    "print(str(outpath))\n",
    "aseg = AudioSegment.from_mp3(p)\n",
    "asegmono = aseg.split_to_mono()[0]\n",
    "#* The export line, comment out if dont need to make file.\n",
    "asegmono.export(str(outpath), format=\"wav\", )\n",
    "#make\n"
   ]
  },
  {
   "cell_type": "code",
   "execution_count": null,
   "metadata": {},
   "outputs": [
    {
     "name": "stdout",
     "output_type": "stream",
     "text": [
      "D:\\Coding\\DPython\\ex-audio\\Book Accent 155 BPM (@hertzquartersounds).wav\n",
      "D:\\Coding\\DPython\\ex-audio\\Impeach The President (32b 48k quantize).wav\n",
      "D:\\Coding\\DPython\\ex-audio\\Bassdrum.mp3\n",
      "D:\\Coding\\DPython\\ex-audio\\btinthedark.mp3\n",
      "D:\\Coding\\DPython\\ex-audio\\Cowbell.mp3\n",
      "D:\\Coding\\DPython\\ex-audio\\Hat Closed-01.mp3\n",
      "D:\\Coding\\DPython\\ex-audio\\Snare2.mp3\n"
     ]
    }
   ],
   "source": [
    "\n",
    "#** Developing audio manipulation\n",
    "from pathlib import Path\n",
    "dir = r\"D:\\Coding\\DPython\\ex-audio\"\n",
    "p = Path(dir)\n",
    "def getType(pathlist, ftype):\n",
    "    return [x for x in list(pathlist.iterdir()) if x.suffix == ftype]\n",
    "# pull wav and mp3 files\n",
    "wavin = getType(p,'.wav')\n",
    "mp3in = getType(p,'.mp3')\n",
    "subdirs = getType(p,'')\n",
    "\n",
    "for i in wavin+mp3in:\n",
    "    print(i)"
   ]
  },
  {
   "cell_type": "code",
   "execution_count": 8,
   "metadata": {},
   "outputs": [
    {
     "name": "stdout",
     "output_type": "stream",
     "text": [
      "<function getfiles_folder at 0x00000219AD334AE0>\n",
      "[<pydub.audio_segment.AudioSegment object at 0x00000219ADC13E30>, <pydub.audio_segment.AudioSegment object at 0x00000219ADCA3EC0>]\n",
      "[<pydub.audio_segment.AudioSegment object at 0x00000219ADC90F70>]\n",
      "[<pydub.audio_segment.AudioSegment object at 0x00000219AD97DDD0>, <pydub.audio_segment.AudioSegment object at 0x00000219ADCBD1D0>]\n"
     ]
    }
   ],
   "source": [
    "from pydub import AudioSegment\n",
    "from directorynav import getfiles_folder\n",
    "\n",
    "#* Audio Time\n",
    "print (getfiles_folder)\n",
    "\n",
    "wavin = getfiles_folder(r'D:\\coding\\Dpython\\ex-audio',{'.wav'})\n",
    "\n",
    "#? will split_to_mono work regardless?\n",
    "#* gonna do list for now just so we can find a mono to check on\n",
    "wavin = list(wavin)\n",
    "segments = [AudioSegment.from_wav(f) for f in wavin]\n",
    "for segment in segments:\n",
    "    print(segment.split_to_mono())\n",
    "\n",
    "\n",
    "\n",
    "\n",
    "# Don't need this for now\n",
    "#for f in wavin:\n",
    "#    seg = AudioSegment(f)\n",
    "#    if seg.channels>1:\n",
    "#        print(f'{seg} is stereo, using left only')\n",
    "#        seg = seg.split_to_mono()[0] #just take left track for now\n",
    "#    #** NOW NEED TO DO THE REST OF THE STUFF\n",
    "\n",
    "\n",
    "\n",
    "# print(audiofile_mono) #got that shit loaded up\n",
    "#audiofile.export('',format='.wav',bitrate='48k')"
   ]
  },
  {
   "cell_type": "code",
   "execution_count": 9,
   "metadata": {},
   "outputs": [
    {
     "name": "stdout",
     "output_type": "stream",
     "text": [
      "<built-in function format>\n"
     ]
    }
   ],
   "source": [
    "print(format)"
   ]
  }
 ],
 "metadata": {
  "kernelspec": {
   "display_name": "explorenv",
   "language": "python",
   "name": "python3"
  },
  "language_info": {
   "codemirror_mode": {
    "name": "ipython",
    "version": 3
   },
   "file_extension": ".py",
   "mimetype": "text/x-python",
   "name": "python",
   "nbconvert_exporter": "python",
   "pygments_lexer": "ipython3",
   "version": "3.12.7"
  }
 },
 "nbformat": 4,
 "nbformat_minor": 2
}
