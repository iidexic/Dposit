{
 "cells": [
  {
   "cell_type": "code",
   "execution_count": null,
   "metadata": {},
   "outputs": [
    {
     "name": "stdout",
     "output_type": "stream",
     "text": [
      "path functions:\n",
      "DUH, THIS IS THE PATH:\n",
      "d:\\coding\\dpython\\audio\\directory.py\n",
      "\n",
      "drive goes to: d:, anchor goes to: d:\\\n",
      "\n",
      "parent:d:\\coding\\dpython\\audio\n",
      "d:\\coding\\dpython\\audio\n",
      "d:\\coding\\dpython\n",
      "d:\\coding\n",
      "d:\\\n",
      "[WindowsPath('d:/coding/dpython/audio'), WindowsPath('d:/coding/dpython'), WindowsPath('d:/coding'), WindowsPath('d:/')]\n"
     ]
    }
   ],
   "source": [
    "# import os #apparrently os.path is the og way to do this shit\n",
    "from pathlib import Path\n",
    "\n",
    "print(\"path functions:\")\n",
    "\n",
    "p = Path('d:/coding/dpython/audio/directory.py')\n",
    "print(f'DUH, THIS IS THE PATH:')\n",
    "print(f'{p}\\n')\n",
    "print(f\"drive goes to: {p.drive}, anchor goes to: {p.anchor}\\n\")\n",
    "\n",
    "print(f'parent:{p.parent}')\n",
    "[print(i) for i in p.parents] #** Will start spitting out empties if nothing below it? not sure why. Probably just list comprehension with no target\n",
    "print(f'{list(p.parents)}')\n",
    "#! HOW DO I DO A LIST COMPREHENSION WHERE I GET EACH ITEM IN PARENT AND THEIR RESPECTIVE INDEX\n",
    "\n",
    "\n",
    "# print([str(i) for i in p.parents])\n",
    "# print('\\n')\n",
    "# print(p.is_file()) #is path to file?\n",
    "# print(f'filetype is: {p.suffix}')\n",
    "\n",
    "#--- this will do like a symlink\n",
    "# p = Path('mylink')\n",
    "# p.symlink_to('setup.py')\n",
    "# p.readlink()\n",
    "# PosixPath('setup.py')\n",
    "#---\n"
   ]
  },
  {
   "cell_type": "code",
   "execution_count": null,
   "metadata": {},
   "outputs": [
    {
     "name": "stdout",
     "output_type": "stream",
     "text": [
      "dir is path: <class 'pathlib._local.WindowsPath'>\n",
      "finished iterdir\n",
      "running all types\n",
      "Bassdrum.mp3\n"
     ]
    }
   ],
   "source": [
    "# Checking our function to grab the shit we want\n",
    "from pathlib import Path\n",
    "from iteration_utilities import first\n",
    "\n",
    "def getfiles_folder(dir: str | Path, filetypes = {\"all_types\"}) -> set[Path]:\n",
    "    if isinstance(dir,Path):\n",
    "        print(f'dir is path: {type(dir)}')\n",
    "        f = dir.iterdir()\n",
    "    else:\n",
    "        print('dir is string')\n",
    "        f = Path(dir).iterdir()\n",
    "    print('finished iterdir')\n",
    "    if first(filetypes) == 'all_types':\n",
    "        print('running all types')\n",
    "        return {x for x in f if x.is_file()}\n",
    "    else:\n",
    "        print('running set types')\n",
    "        return {x for x in f if x.suffix in filetypes}\n",
    "\n",
    "\n",
    "# p = Path(r'D:\\coding\\Dpython\\ex-audio')\n",
    "# print(type(p))\n",
    "lf = getfiles_folder(p)\n",
    "f = lf.pop()\n",
    "\n",
    "print(f.name) #full filename\n",
    "print(f.stem) #name without filetype\n",
    "print(f.suffix) #filetype only\n",
    "#? Can String subtraction return only the filename? Is there a more efficient way of returning this\n"
   ]
  }
 ],
 "metadata": {
  "kernelspec": {
   "display_name": "audioenv",
   "language": "python",
   "name": "python3"
  },
  "language_info": {
   "codemirror_mode": {
    "name": "ipython",
    "version": 3
   },
   "file_extension": ".py",
   "mimetype": "text/x-python",
   "name": "python",
   "nbconvert_exporter": "python",
   "pygments_lexer": "ipython3",
   "version": "3.13.0"
  }
 },
 "nbformat": 4,
 "nbformat_minor": 2
}
