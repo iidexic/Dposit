{
 "cells": [
  {
   "cell_type": "code",
   "execution_count": 7,
   "metadata": {},
   "outputs": [
    {
     "name": "stdout",
     "output_type": "stream",
     "text": [
      "audioop\n",
      "audioop_lts-0.2.1.dist-info\n",
      "av\n",
      "av-13.1.0.dist-info\n",
      "av.libs\n",
      "blessings\n",
      "blessings-1.7.dist-info\n",
      "cffi\n",
      "cffi-1.17.1.dist-info\n",
      "construct\n",
      "construct-2.10.68.dist-info\n",
      "construct-stubs\n",
      "construct_typed\n",
      "construct_typing-0.6.2.dist-info\n",
      "ftransc\n",
      "ftransc-7.0.3.dist-info\n",
      "ipython-8.29.0.dist-info\n",
      "iteration_utilities\n",
      "iteration_utilities-0.13.0.dist-info\n",
      "miniaudio-1.61.dist-info\n",
      "miniaudio.py\n",
      "mutagen\n",
      "mutagen-1.47.0.dist-info\n",
      "pafy\n",
      "pafy-0.5.5.dist-info\n",
      "plumbum\n",
      "plumbum-1.9.0.dist-info\n",
      "pycparser\n",
      "pycparser-2.22.dist-info\n",
      "pyflp\n",
      "pyflp-2.2.1.dist-info\n",
      "pywin32-308.dist-info\n",
      "simpleaudio\n",
      "simpleaudio-1.0.4.dist-info\n",
      "sortedcontainers\n",
      "sortedcontainers-2.4.0.dist-info\n",
      "stack_data-0.6.3.dist-info\n",
      "wx\n",
      "wxPython-4.2.2.dist-info\n",
      "youtube_dl\n",
      "youtube_dl-2021.12.17.dist-info\n",
      "_cffi_backend.cp313-win_amd64.pyd\n",
      "_miniaudio.pyd\n"
     ]
    }
   ],
   "source": [
    "from pathlib import Path\n",
    "\n",
    "\n",
    "p = Path(r'C:\\dev\\pyenvs\\audioenv\\lib\\site-packages')\n",
    "p1 = Path(r'C:\\users\\derek\\.conda\\envs\\explorenv\\lib\\site-packages')\n",
    "original_env = [f.name for f in p.iterdir()]\n",
    "new_env = [f.name for f in p1.iterdir()]\n",
    "extra = [x for x in original_env if x not in new_env]\n",
    "for l in extra:\n",
    "    print(l)"
   ]
  }
 ],
 "metadata": {
  "kernelspec": {
   "display_name": "explorenv",
   "language": "python",
   "name": "python3"
  },
  "language_info": {
   "codemirror_mode": {
    "name": "ipython",
    "version": 3
   },
   "file_extension": ".py",
   "mimetype": "text/x-python",
   "name": "python",
   "nbconvert_exporter": "python",
   "pygments_lexer": "ipython3",
   "version": "3.12.7"
  }
 },
 "nbformat": 4,
 "nbformat_minor": 2
}
